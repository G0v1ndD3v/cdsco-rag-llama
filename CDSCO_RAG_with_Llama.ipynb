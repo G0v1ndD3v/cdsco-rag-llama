{
 "cells": [
  {
   "cell_type": "markdown",
   "metadata": {
    "id": "SdW3gpy0teM4"
   },
   "source": [
    "# CDSCO-Based Drug Information System\n",
    "Large language models (LLMs) are increasingly being adopted for clinical decision support. However, most models are primarily trained on biomedical corpora from the US and EU and lack context around Indian regulatory frameworks. This project focuses on developing a Retrieval-Augmented Generation (RAG) pipeline grounded in drug approvals published by the Central Drugs Standard Control Organization (CDSCO). It also lays the groundwork for future automation and integration into personalized healthcare systems to deliver up-to-date drug data."
   ]
  },
  {
   "cell_type": "markdown",
   "metadata": {
    "id": "tV2HUINGteM7"
   },
   "source": [
    "## Environment Setup\n",
    "Configuring components for Ollama and preparing the environment for subsequent operations. I'm using `colab-xterm` to work around Colab's GPU limits. Execute these commands in the shell to install the model and get started:\n",
    "```\n",
    "curl -fsSL https://ollama.com/install.sh | sh\n",
    "ollama serve > /dev/null 2>&1 &\n",
    "ollama pull llama3.2\n",
    "ollama pull nomic-embed-text\n",
    "ollama list\n",
    "```"
   ]
  },
  {
   "cell_type": "code",
   "execution_count": null,
   "metadata": {
    "id": "zI7O6DfHQoXz"
   },
   "outputs": [],
   "source": [
    "!pip install colab-xterm -q"
   ]
  },
  {
   "cell_type": "code",
   "execution_count": null,
   "metadata": {
    "id": "qx-52CsDRfcg"
   },
   "outputs": [],
   "source": [
    "%load_ext colabxterm\n",
    "%xterm"
   ]
  },
  {
   "cell_type": "code",
   "execution_count": null,
   "metadata": {
    "id": "roXE5WkGSFkn"
   },
   "outputs": [],
   "source": [
    "!pip install langchain -q\n",
    "!pip install langchain-core -q\n",
    "!pip install langchain-community -q"
   ]
  },
  {
   "cell_type": "code",
   "execution_count": null,
   "metadata": {
    "colab": {
     "base_uri": "https://localhost:8080/"
    },
    "id": "Jb_ChfbuUlS4",
    "outputId": "9d3761f8-ff5f-4c04-9131-6db22626c116"
   },
   "outputs": [
    {
     "name": "stderr",
     "output_type": "stream",
     "text": [
      "<ipython-input-4-d3b4d46f1d24>:3: LangChainDeprecationWarning: The class `Ollama` was deprecated in LangChain 0.3.1 and will be removed in 1.0.0. An updated version of the class exists in the :class:`~langchain-ollama package and should be used instead. To use it run `pip install -U :class:`~langchain-ollama` and import as `from :class:`~langchain_ollama import OllamaLLM``.\n",
      "  llm = Ollama(model=\"llama3.2\")\n"
     ]
    },
    {
     "name": "stdout",
     "output_type": "stream",
     "text": [
      "I can't provide real-time information or updates after my knowledge cutoff date of December 2023. For the most recent information on CDSCO approvals, indications, and recommended combinations for Zanubrutinib in hematologic malignancies as of 2025, I recommend consulting a reliable medical source or the official website of the Central Drugs Standard Control Organization (CDSCO) for the latest updates.\n"
     ]
    }
   ],
   "source": [
    "from langchain_community.llms import Ollama\n",
    "\n",
    "llm = Ollama(model=\"llama3.2\")\n",
    "# Baseline query to evaluate the model's current knowledge.\n",
    "response = llm.invoke(\"According to 2025 CDSCO approvals, in which hematologic malignancies is Zanubrutinib indicated, and what are the recommended combinations for relapsed or refractory cases?\")\n",
    "print(response)"
   ]
  },
  {
   "cell_type": "code",
   "execution_count": null,
   "metadata": {
    "id": "zOYUVoN3XVW_"
   },
   "outputs": [],
   "source": [
    "!pip install beautifulsoup4 chromadb langchain ollama PyMuPDF -q"
   ]
  },
  {
   "cell_type": "code",
   "execution_count": null,
   "metadata": {
    "id": "WwT8KLiPXtJH"
   },
   "outputs": [],
   "source": [
    "import os\n",
    "import csv\n",
    "from urllib.parse import urljoin\n",
    "\n",
    "import requests\n",
    "import fitz\n",
    "import ollama\n",
    "from bs4 import BeautifulSoup\n",
    "\n",
    "from langchain_core.documents import Document\n",
    "from langchain.text_splitter import RecursiveCharacterTextSplitter\n",
    "from langchain_community.vectorstores import Chroma\n",
    "from langchain_community.embeddings import OllamaEmbeddings"
   ]
  },
  {
   "cell_type": "markdown",
   "metadata": {
    "id": "c6TgKVN6teM9"
   },
   "source": [
    "## Web Scraping and Document Ingestion\n",
    "Approved drug information on the CDSCO website is not available in a directly usable format. Instead, the data is published through PDF documents linked within the webpage. Each link leads to a JSP-based intermediary page where the actual PDF file is rendered inside an `<iframe>`. As a result, the data must be retrieved by accessing and parsing the embedded PDF files individually."
   ]
  },
  {
   "cell_type": "code",
   "execution_count": null,
   "metadata": {
    "id": "saOjsIDZVkKJ"
   },
   "outputs": [],
   "source": [
    "# Set up headers and base URL\n",
    "headers = {\n",
    "    \"User-Agent\": \"Mozilla/5.0\"\n",
    "}\n",
    "base_url = \"https://cdsco.gov.in\"\n",
    "\n",
    "# Page to scrape\n",
    "target_url = \"https://cdsco.gov.in/opencms/opencms/en/Approval_new/Approved-New-Drugs/#\""
   ]
  },
  {
   "cell_type": "code",
   "execution_count": null,
   "metadata": {
    "id": "lP-_lGdyV-fk"
   },
   "outputs": [],
   "source": [
    "# Request and parse HTML\n",
    "response = requests.get(target_url, headers=headers, timeout=10)\n",
    "response.raise_for_status()\n",
    "\n",
    "soup = BeautifulSoup(response.text, \"html.parser\")"
   ]
  },
  {
   "cell_type": "code",
   "execution_count": null,
   "metadata": {
    "id": "8d3euZsXWPdh"
   },
   "outputs": [],
   "source": [
    "# Find all 'a' tags linking to download JSPs\n",
    "pdf_links = []\n",
    "for a in soup.find_all('a', href=True):\n",
    "    href = a['href']\n",
    "    if \"download_file_division.jsp\" in href:\n",
    "        full_url = urljoin(base_url, href)\n",
    "        pdf_links.append(full_url)"
   ]
  },
  {
   "cell_type": "code",
   "execution_count": null,
   "metadata": {
    "colab": {
     "base_uri": "https://localhost:8080/"
    },
    "id": "8BtYB3NYWYvW",
    "outputId": "9d9b0513-7bf8-47d4-dd2e-38f019b0831f"
   },
   "outputs": [
    {
     "name": "stdout",
     "output_type": "stream",
     "text": [
      "Extracted and saved 38 PDF download links to 'pdf_links.csv'\n"
     ]
    }
   ],
   "source": [
    "# Save to CSV\n",
    "with open(\"pdf_links.csv\", mode='w', newline='', encoding='utf-8') as f:\n",
    "    writer = csv.writer(f)\n",
    "    writer.writerow(['PDF_URL'])\n",
    "    for link in pdf_links:\n",
    "        writer.writerow([link])\n",
    "\n",
    "print(f\"Extracted and saved {len(pdf_links)} PDF download links to 'pdf_links.csv'\")"
   ]
  },
  {
   "cell_type": "code",
   "execution_count": null,
   "metadata": {
    "id": "b_k4bEXhWf4B"
   },
   "outputs": [],
   "source": [
    "# Load PDF URLs from CSV\n",
    "pdf_urls = []\n",
    "\n",
    "with open(\"pdf_links.csv\", newline='') as csvfile:\n",
    "    reader = csv.DictReader(csvfile)\n",
    "    for row in reader:\n",
    "        pdf_urls.append(row['PDF_URL'])"
   ]
  },
  {
   "cell_type": "code",
   "execution_count": null,
   "metadata": {
    "id": "vxVn-vphYCcm"
   },
   "outputs": [],
   "source": [
    "docs = []\n",
    "\n",
    "headers = {\n",
    "    \"User-Agent\": \"Mozilla/5.0\",\n",
    "    \"Referer\": \"https://cdsco.gov.in/opencms/opencms/en/Approval_new/Approved-New-Drugs/#\"\n",
    "}\n",
    "\n",
    "# Read CSV and fetch each PDF URL\n",
    "with open(\"pdf_links.csv\", newline='') as csvfile:\n",
    "    reader = csv.DictReader(csvfile)\n",
    "    for i, row in enumerate(reader):\n",
    "        jsp_url = row[\"PDF_URL\"]\n",
    "        try:\n",
    "            response = requests.get(jsp_url, headers=headers, timeout=15)\n",
    "            soup = BeautifulSoup(response.text, \"html.parser\")\n",
    "            iframe = soup.find(\"iframe\")\n",
    "\n",
    "            if iframe and iframe.has_attr(\"src\"):\n",
    "                # Download PDF content from iframe src\n",
    "                pdf_url = urljoin(jsp_url, iframe[\"src\"])\n",
    "                pdf_resp = requests.get(pdf_url, headers=headers, timeout=15)\n",
    "\n",
    "                if b\"%PDF\" in pdf_resp.content[:4]:  # Check PDF header\n",
    "                    doc = fitz.open(stream=pdf_resp.content, filetype=\"pdf\")\n",
    "                    text = \"\\n\".join(page.get_text() for page in doc)\n",
    "                    doc.close()\n",
    "\n",
    "                    docs.append(Document(page_content=text, metadata={\"source\": f\"url_{i}\"}))\n",
    "\n",
    "        except Exception as e:\n",
    "            print(f\"Error on {jsp_url}: {e}\")"
   ]
  },
  {
   "cell_type": "markdown",
   "metadata": {
    "id": "txekYzsuteM-"
   },
   "source": [
    "## Text Processing\n",
    "The PDFs contained tabular data with multi-line entries, so a chunk size of 512 chars felt like a safe boundary to capture full entries, with an overlap of 50 in case a drug entry is on the edge of a chunk. These chunks are then converted into vector embeddings and stored in Chroma."
   ]
  },
  {
   "cell_type": "code",
   "execution_count": null,
   "metadata": {
    "id": "NCZJc0NGeTJ1"
   },
   "outputs": [],
   "source": [
    "# Split docs into chunks\n",
    "text_splitter = RecursiveCharacterTextSplitter(chunk_size=512, chunk_overlap=50)\n",
    "splits = text_splitter.split_documents(docs)"
   ]
  },
  {
   "cell_type": "code",
   "execution_count": null,
   "metadata": {
    "id": "PkhtTWHYDH1r"
   },
   "outputs": [],
   "source": [
    "# Create embeddings and vectorstore\n",
    "embeddings = OllamaEmbeddings(model=\"nomic-embed-text\")\n",
    "vectorstore = Chroma.from_documents(documents=splits, embedding=embeddings)\n",
    "retriever = vectorstore.as_retriever()"
   ]
  },
  {
   "cell_type": "markdown",
   "metadata": {
    "id": "nQZlhROdteM-"
   },
   "source": [
    "## RAG Configuration\n",
    "Setting up functions to retrieve context from Chroma for Ollama to generate informed responses."
   ]
  },
  {
   "cell_type": "code",
   "execution_count": null,
   "metadata": {
    "id": "Qgto3sjoefPa"
   },
   "outputs": [],
   "source": [
    "# LLM response function\n",
    "def ollama_llm(question, context):\n",
    "    formatted_prompt = f\"Question: {question}\\nContext: {context}\\nAnswer:\"\n",
    "    response = ollama.chat(model='llama3.2', messages=[{'role': 'user', 'content': formatted_prompt}])\n",
    "    return response['message']['content']"
   ]
  },
  {
   "cell_type": "code",
   "execution_count": null,
   "metadata": {
    "id": "EG3D3vr9fV8r"
   },
   "outputs": [],
   "source": [
    "# RAG chain\n",
    "def rag_chain(question):\n",
    "    retrieved_docs = retriever.invoke(question)\n",
    "    formatted_context = \"\\n\\n\".join(doc.page_content for doc in retrieved_docs)\n",
    "    return ollama_llm(question, formatted_context)"
   ]
  },
  {
   "cell_type": "code",
   "execution_count": null,
   "metadata": {
    "colab": {
     "base_uri": "https://localhost:8080/"
    },
    "id": "NzMDWmfnfcHz",
    "outputId": "ba5ebc9e-0d4d-4fe7-9131-94fbf247cee9"
   },
   "outputs": [
    {
     "name": "stdout",
     "output_type": "stream",
     "text": [
      "According to 2025 CDSCO approvals, Zanubrutinib is indicated in hematologic malignancies for the treatment of:\n",
      "\n",
      "1. Mantle cell lymphoma (MCL) who have received at least one prior therapy.\n",
      "2. Waldenstrom’s macrogloubulinemia (WM)\n",
      "3. Relapsed or refractory marginal zone lymphoma (MZL) who have received at least one anti-CD20-based regimen.\n",
      "4. Chronic lymphocytic leukemia (CLL) or small lymphocytic lymphoma (SLL).\n",
      "5. Relapsed or refractory follicular lymphoma (FL), in combination with obinutuzumab, after two or more lines of systemic therapy.\n",
      "\n",
      "Additionally, Zanubrutinib is indicated for the treatment of relapsed follicular B-cell non-Hodgkin lymphoma (FL) and small lymphocytic lymphoma (SLL) in patients who have received at least two prior systemic therapies.\n"
     ]
    }
   ],
   "source": [
    "# Query RAG\n",
    "answer = rag_chain(\"According to 2025 CDSCO approvals, in which hematologic malignancies is Zanubrutinib indicated, and what are the recommended combinations for relapsed or refractory cases?\")\n",
    "print(answer)"
   ]
  }
 ],
 "metadata": {
  "accelerator": "GPU",
  "colab": {
   "gpuType": "T4",
   "provenance": []
  },
  "kernelspec": {
   "display_name": "Python 3 (ipykernel)",
   "language": "python",
   "name": "python3"
  },
  "language_info": {
   "codemirror_mode": {
    "name": "ipython",
    "version": 3
   },
   "file_extension": ".py",
   "mimetype": "text/x-python",
   "name": "python",
   "nbconvert_exporter": "python",
   "pygments_lexer": "ipython3",
   "version": "3.11.9"
  }
 },
 "nbformat": 4,
 "nbformat_minor": 4
}
